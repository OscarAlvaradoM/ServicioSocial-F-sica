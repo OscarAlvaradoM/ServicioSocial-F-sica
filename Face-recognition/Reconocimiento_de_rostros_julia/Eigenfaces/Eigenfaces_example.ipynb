{
 "cells": [
  {
   "cell_type": "code",
   "execution_count": null,
   "metadata": {},
   "outputs": [],
   "source": [
    "using ImageTransformations\n",
    "using LinearAlgebra\n",
    "using Statistics\n",
    "using Colors\n",
    "using Random"
   ]
  },
  {
   "cell_type": "code",
   "execution_count": null,
   "metadata": {},
   "outputs": [],
   "source": [
    "function raw2array(path)\n",
    "    io = open(path, \"r\")\n",
    "    raw_data = read(io)\n",
    "    close(io)\n",
    "    len = length(raw_data)\n",
    "    raiz = trunc(Int64, sqrt(len))\n",
    "    if raiz == 128 # If the image is squared\n",
    "        return (convert.(Float64, reshape(raw_data, raiz, raiz)))'\n",
    "    else\n",
    "        return zeros(128,128)\n",
    "    end\n",
    "end"
   ]
  },
  {
   "cell_type": "code",
   "execution_count": null,
   "metadata": {},
   "outputs": [],
   "source": [
    "min_max_scale(a) = (a .- min(a...))/(max(a...)-min(a...)) # The Gray() function only works with 0-1 arrays"
   ]
  },
  {
   "cell_type": "code",
   "execution_count": null,
   "metadata": {},
   "outputs": [],
   "source": [
    "data = readdir(\"../datasets/rawdata\")\n",
    "number_images = 500\n",
    "data_slice = shuffle(data)[1:number_images]\n",
    "tensor = zeros(number_images, 128, 128)\n",
    "i = 0\n",
    "for (idx, file) in enumerate(data_slice)\n",
    "    tensor[idx,:,:] = raw2array(\"../datasets/rawdata/$(file)\")\n",
    "end"
   ]
  },
  {
   "cell_type": "code",
   "execution_count": null,
   "metadata": {},
   "outputs": [],
   "source": [
    "Gray.(min_max_scale(tensor[1,:,:]))"
   ]
  },
  {
   "cell_type": "code",
   "execution_count": null,
   "metadata": {},
   "outputs": [],
   "source": [
    "# This is the mean face\n",
    "mean_tensor = mean(tensor, dims = 1)[1,:,:]; # We get a 3D array (1x128x128) but we just need the 128x128\n",
    "Gray.(min_max_scale(mean_tensor))"
   ]
  },
  {
   "cell_type": "code",
   "execution_count": null,
   "metadata": {},
   "outputs": [],
   "source": [
    "# We have to have 'centered' points in PCA. Let's substract the mean image to all images\n",
    "tensor_PCA = zeros(number_images, 128, 128)\n",
    "for idx in 1:number_images\n",
    "    tensor_PCA[idx,:,:] = tensor[idx,:,:] .- mean_tensor\n",
    "end\n",
    "Gray.(min_max_scale(tensor_PCA[1,:,:]))"
   ]
  },
  {
   "cell_type": "code",
   "execution_count": null,
   "metadata": {},
   "outputs": [],
   "source": [
    "function T2M(tensor)\n",
    "    dims = size(tensor)\n",
    "    return reshape(tensor, (dims[1], dims[2]*dims[3]))\n",
    "end\n",
    "\n",
    "function M2T(matrix)\n",
    "    dims = size(matrix)\n",
    "    return reshape(matrix, (dims[1], trunc(Int64, sqrt(dims[2])), trunc(Int64, sqrt(dims[2]))))\n",
    "end"
   ]
  },
  {
   "cell_type": "code",
   "execution_count": null,
   "metadata": {},
   "outputs": [],
   "source": [
    "X = T2M(tensor_PCA);"
   ]
  },
  {
   "cell_type": "code",
   "execution_count": null,
   "metadata": {},
   "outputs": [],
   "source": [
    "U, Sigma, VT = svd(X)\n",
    "eigenfaces = M2T(VT'); # The eigenfaces as a tensor"
   ]
  },
  {
   "cell_type": "code",
   "execution_count": null,
   "metadata": {},
   "outputs": [],
   "source": [
    "function reconstruction(original_image, number_eigenf)\n",
    "    image_as_vector = reshape(original_image, (1,128*128))\n",
    "    k_coeff = image_as_vector*VT[:, 1:number_eigenf]\n",
    "    return reshape(k_coeff*VT[:, 1:number_eigenf]', (128,128))\n",
    "end"
   ]
  },
  {
   "cell_type": "code",
   "execution_count": null,
   "metadata": {},
   "outputs": [],
   "source": [
    "a = reconstruction(tensor[1,:,:], 200)\n",
    "c = Gray.(min_max_scale(a))"
   ]
  }
 ],
 "metadata": {
  "kernelspec": {
   "display_name": "Julia 1.1.1",
   "language": "julia",
   "name": "julia-1.1"
  },
  "language_info": {
   "file_extension": ".jl",
   "mimetype": "application/julia",
   "name": "julia",
   "version": "1.1.1"
  }
 },
 "nbformat": 4,
 "nbformat_minor": 4
}
