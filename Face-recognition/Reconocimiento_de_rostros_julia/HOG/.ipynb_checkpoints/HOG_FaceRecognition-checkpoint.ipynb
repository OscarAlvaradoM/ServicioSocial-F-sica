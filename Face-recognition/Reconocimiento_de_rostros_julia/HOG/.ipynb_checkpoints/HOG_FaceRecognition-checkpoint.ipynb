{
 "cells": [
  {
   "cell_type": "code",
   "execution_count": null,
   "metadata": {},
   "outputs": [],
   "source": [
    "#We would like to thanks the financial support of PAPIIT-IA104720"
   ]
  },
  {
   "cell_type": "markdown",
   "metadata": {},
   "source": [
    "# HOG Facial recognition Notebook \n",
    "\n",
    "- Óscar A. Alvarado\n",
    "- Oscar A. Esquivel"
   ]
  },
  {
   "cell_type": "code",
   "execution_count": 1,
   "metadata": {},
   "outputs": [
    {
     "name": "stdout",
     "output_type": "stream",
     "text": [
      "\u001b[32m\u001b[1mActivating\u001b[22m\u001b[39m new environment at `C:\\Users\\Óscar Alvarado\\.julia\\environments\\HOG\\Project.toml`\n"
     ]
    }
   ],
   "source": [
    "using Pkg\n",
    "using Pkg\n",
    "#Pkg.activate(\"/home/oscar/.julia/environments/HOG\")\n",
    "Pkg.activate(\"C:/Users/Óscar Alvarado/.julia/environments/HOG\") # To use the correct environment"
   ]
  },
  {
   "cell_type": "code",
   "execution_count": 24,
   "metadata": {},
   "outputs": [],
   "source": [
    "using Images, ImageFeatures # We have to Pkg.add(\"Netpbm\") because our images are in pgm format\n",
    "using DataFrames, CSV\n",
    "using LinearAlgebra\n",
    "using BenchmarkTools"
   ]
  },
  {
   "cell_type": "code",
   "execution_count": 15,
   "metadata": {},
   "outputs": [
    {
     "data": {
      "text/plain": [
       "20"
      ]
     },
     "execution_count": 15,
     "metadata": {},
     "output_type": "execute_result"
    }
   ],
   "source": [
    "marco = 20"
   ]
  },
  {
   "cell_type": "markdown",
   "metadata": {},
   "source": [
    "- Loading training faces"
   ]
  },
  {
   "cell_type": "code",
   "execution_count": 16,
   "metadata": {},
   "outputs": [
    {
     "name": "stdout",
     "output_type": "stream",
     "text": [
      "../datasets/CroppedYale/yaleB01/yaleB01_P00A-005E-10.pgm\n",
      "../datasets/CroppedYale/yaleB02/yaleB02_P00A-005E-10.pgm\n",
      "../datasets/CroppedYale/yaleB03/yaleB03_P00A-005E-10.pgm\n",
      "../datasets/CroppedYale/yaleB04/yaleB04_P00A-005E-10.pgm\n",
      "../datasets/CroppedYale/yaleB05/yaleB05_P00A-005E-10.pgm\n",
      "../datasets/CroppedYale/yaleB06/yaleB06_P00A-005E-10.pgm\n",
      "../datasets/CroppedYale/yaleB07/yaleB07_P00A-005E-10.pgm\n",
      "../datasets/CroppedYale/yaleB08/yaleB08_P00A-005E-10.pgm\n",
      "../datasets/CroppedYale/yaleB09/yaleB09_P00A-005E-10.pgm\n",
      "../datasets/CroppedYale/yaleB10/yaleB10_P00A-005E-10.pgm\n",
      "../datasets/CroppedYale/yaleB11/yaleB11_P00A-005E-10.pgm\n",
      "../datasets/CroppedYale/yaleB12/yaleB12_P00A-005E-10.pgm\n",
      "../datasets/CroppedYale/yaleB13/yaleB13_P00A-005E-10.pgm\n",
      "../datasets/CroppedYale/yaleB15/yaleB15_P00A-005E-10.pgm\n",
      "../datasets/CroppedYale/yaleB16/yaleB16_P00A-005E-10.pgm\n",
      "../datasets/CroppedYale/yaleB17/yaleB17_P00A-005E-10.pgm\n",
      "../datasets/CroppedYale/yaleB18/yaleB18_P00A-005E-10.pgm\n",
      "../datasets/CroppedYale/yaleB19/yaleB19_P00A-005E-10.pgm\n"
     ]
    }
   ],
   "source": [
    "tensor = zeros(18, 192 + 2marco, 168 + 2marco)\n",
    "path = \"../datasets/CroppedYale/\"\n",
    "i = 1\n",
    "for directory = readdir(path)\n",
    "    if occursin(\"yale\", directory) && Meta.parse(directory[end-1:end]) < 20\n",
    "        for file in readdir(path*directory)\n",
    "            if occursin(\"-005E-10\", file)\n",
    "                println(path*directory*\"/\"*file)\n",
    "                tensor[i, marco:(192+marco-1), marco:(168+marco-1)] = Float64.(load(path*directory*\"/\"*file))\n",
    "                i += 1\n",
    "            end\n",
    "        end\n",
    "    end\n",
    "end"
   ]
  },
  {
   "cell_type": "code",
   "execution_count": 17,
   "metadata": {},
   "outputs": [
    {
     "data": {
      "image/png": "[encoded data removed]",
      "text/plain": [
       "232×208 Array{Gray{Float64},2} with eltype Gray{Float64}:\n",
       " Gray{Float64}(0.0)  Gray{Float64}(0.0)  …  Gray{Float64}(0.0)\n",
       " Gray{Float64}(0.0)  Gray{Float64}(0.0)     Gray{Float64}(0.0)\n",
       " Gray{Float64}(0.0)  Gray{Float64}(0.0)     Gray{Float64}(0.0)\n",
       " Gray{Float64}(0.0)  Gray{Float64}(0.0)     Gray{Float64}(0.0)\n",
       " Gray{Float64}(0.0)  Gray{Float64}(0.0)     Gray{Float64}(0.0)\n",
       " Gray{Float64}(0.0)  Gray{Float64}(0.0)  …  Gray{Float64}(0.0)\n",
       " Gray{Float64}(0.0)  Gray{Float64}(0.0)     Gray{Float64}(0.0)\n",
       " Gray{Float64}(0.0)  Gray{Float64}(0.0)     Gray{Float64}(0.0)\n",
       " Gray{Float64}(0.0)  Gray{Float64}(0.0)     Gray{Float64}(0.0)\n",
       " Gray{Float64}(0.0)  Gray{Float64}(0.0)     Gray{Float64}(0.0)\n",
       " Gray{Float64}(0.0)  Gray{Float64}(0.0)  …  Gray{Float64}(0.0)\n",
       " Gray{Float64}(0.0)  Gray{Float64}(0.0)     Gray{Float64}(0.0)\n",
       " Gray{Float64}(0.0)  Gray{Float64}(0.0)     Gray{Float64}(0.0)\n",
       " ⋮                                       ⋱                    \n",
       " Gray{Float64}(0.0)  Gray{Float64}(0.0)  …  Gray{Float64}(0.0)\n",
       " Gray{Float64}(0.0)  Gray{Float64}(0.0)     Gray{Float64}(0.0)\n",
       " Gray{Float64}(0.0)  Gray{Float64}(0.0)     Gray{Float64}(0.0)\n",
       " Gray{Float64}(0.0)  Gray{Float64}(0.0)     Gray{Float64}(0.0)\n",
       " Gray{Float64}(0.0)  Gray{Float64}(0.0)     Gray{Float64}(0.0)\n",
       " Gray{Float64}(0.0)  Gray{Float64}(0.0)  …  Gray{Float64}(0.0)\n",
       " Gray{Float64}(0.0)  Gray{Float64}(0.0)     Gray{Float64}(0.0)\n",
       " Gray{Float64}(0.0)  Gray{Float64}(0.0)     Gray{Float64}(0.0)\n",
       " Gray{Float64}(0.0)  Gray{Float64}(0.0)     Gray{Float64}(0.0)\n",
       " Gray{Float64}(0.0)  Gray{Float64}(0.0)     Gray{Float64}(0.0)\n",
       " Gray{Float64}(0.0)  Gray{Float64}(0.0)  …  Gray{Float64}(0.0)\n",
       " Gray{Float64}(0.0)  Gray{Float64}(0.0)     Gray{Float64}(0.0)"
      ]
     },
     "execution_count": 17,
     "metadata": {},
     "output_type": "execute_result"
    }
   ],
   "source": [
    "Gray.(tensor[3,:,:]) # We have to Pkg.add(\"ImageMagick\") to see the image"
   ]
  },
  {
   "cell_type": "markdown",
   "metadata": {},
   "source": [
    "- loading the landmarks' coordinates"
   ]
  },
  {
   "cell_type": "code",
   "execution_count": 18,
   "metadata": {},
   "outputs": [
    {
     "data": {
      "text/html": [
       "<table class=\"data-frame\"><thead><tr><th></th><th>ojo_i-x</th><th>ojo_i-y</th><th>ojo_d-x</th><th>ojo_d-y</th><th>nariz_frente-x</th><th>nariz_frente-y</th><th>lagrimal_i-x</th></tr><tr><th></th><th>Int64</th><th>Int64</th><th>Int64</th><th>Int64</th><th>Int64</th><th>Int64</th><th>Int64</th></tr></thead><tbody><p>18 rows × 30 columns (omitted printing of 23 columns)</p><tr><th>1</th><td>35</td><td>45</td><td>129</td><td>45</td><td>80</td><td>40</td><td>55</td></tr><tr><th>2</th><td>37</td><td>44</td><td>133</td><td>44</td><td>82</td><td>36</td><td>56</td></tr><tr><th>3</th><td>32</td><td>39</td><td>128</td><td>39</td><td>78</td><td>40</td><td>52</td></tr><tr><th>4</th><td>39</td><td>48</td><td>133</td><td>47</td><td>84</td><td>40</td><td>61</td></tr><tr><th>5</th><td>35</td><td>50</td><td>130</td><td>50</td><td>82</td><td>49</td><td>54</td></tr><tr><th>6</th><td>36</td><td>47</td><td>132</td><td>48</td><td>83</td><td>36</td><td>59</td></tr><tr><th>7</th><td>33</td><td>50</td><td>130</td><td>51</td><td>80</td><td>45</td><td>56</td></tr><tr><th>8</th><td>36</td><td>41</td><td>131</td><td>42</td><td>83</td><td>40</td><td>58</td></tr><tr><th>9</th><td>34</td><td>50</td><td>131</td><td>51</td><td>82</td><td>43</td><td>58</td></tr><tr><th>10</th><td>36</td><td>40</td><td>131</td><td>41</td><td>80</td><td>37</td><td>57</td></tr><tr><th>11</th><td>37</td><td>49</td><td>136</td><td>52</td><td>88</td><td>49</td><td>64</td></tr><tr><th>12</th><td>33</td><td>40</td><td>129</td><td>42</td><td>81</td><td>34</td><td>59</td></tr><tr><th>13</th><td>43</td><td>36</td><td>145</td><td>39</td><td>94</td><td>31</td><td>64</td></tr><tr><th>14</th><td>36</td><td>49</td><td>133</td><td>50</td><td>82</td><td>41</td><td>58</td></tr><tr><th>15</th><td>34</td><td>51</td><td>130</td><td>51</td><td>78</td><td>47</td><td>57</td></tr><tr><th>16</th><td>35</td><td>49</td><td>133</td><td>47</td><td>82</td><td>43</td><td>58</td></tr><tr><th>17</th><td>32</td><td>37</td><td>132</td><td>39</td><td>78</td><td>32</td><td>55</td></tr><tr><th>18</th><td>34</td><td>53</td><td>128</td><td>55</td><td>79</td><td>45</td><td>55</td></tr></tbody></table>"
      ],
      "text/latex": [
       "\\begin{tabular}{r|cccccccc}\n",
       "\t& ojo\\_i-x & ojo\\_i-y & ojo\\_d-x & ojo\\_d-y & nariz\\_frente-x & nariz\\_frente-y & lagrimal\\_i-x & \\\\\n",
       "\t\\hline\n",
       "\t& Int64 & Int64 & Int64 & Int64 & Int64 & Int64 & Int64 & \\\\\n",
       "\t\\hline\n",
       "\t1 & 35 & 45 & 129 & 45 & 80 & 40 & 55 & $\\dots$ \\\\\n",
       "\t2 & 37 & 44 & 133 & 44 & 82 & 36 & 56 & $\\dots$ \\\\\n",
       "\t3 & 32 & 39 & 128 & 39 & 78 & 40 & 52 & $\\dots$ \\\\\n",
       "\t4 & 39 & 48 & 133 & 47 & 84 & 40 & 61 & $\\dots$ \\\\\n",
       "\t5 & 35 & 50 & 130 & 50 & 82 & 49 & 54 & $\\dots$ \\\\\n",
       "\t6 & 36 & 47 & 132 & 48 & 83 & 36 & 59 & $\\dots$ \\\\\n",
       "\t7 & 33 & 50 & 130 & 51 & 80 & 45 & 56 & $\\dots$ \\\\\n",
       "\t8 & 36 & 41 & 131 & 42 & 83 & 40 & 58 & $\\dots$ \\\\\n",
       "\t9 & 34 & 50 & 131 & 51 & 82 & 43 & 58 & $\\dots$ \\\\\n",
       "\t10 & 36 & 40 & 131 & 41 & 80 & 37 & 57 & $\\dots$ \\\\\n",
       "\t11 & 37 & 49 & 136 & 52 & 88 & 49 & 64 & $\\dots$ \\\\\n",
       "\t12 & 33 & 40 & 129 & 42 & 81 & 34 & 59 & $\\dots$ \\\\\n",
       "\t13 & 43 & 36 & 145 & 39 & 94 & 31 & 64 & $\\dots$ \\\\\n",
       "\t14 & 36 & 49 & 133 & 50 & 82 & 41 & 58 & $\\dots$ \\\\\n",
       "\t15 & 34 & 51 & 130 & 51 & 78 & 47 & 57 & $\\dots$ \\\\\n",
       "\t16 & 35 & 49 & 133 & 47 & 82 & 43 & 58 & $\\dots$ \\\\\n",
       "\t17 & 32 & 37 & 132 & 39 & 78 & 32 & 55 & $\\dots$ \\\\\n",
       "\t18 & 34 & 53 & 128 & 55 & 79 & 45 & 55 & $\\dots$ \\\\\n",
       "\\end{tabular}\n"
      ],
      "text/plain": [
       "18×30 DataFrame. Omitted printing of 25 columns\n",
       "│ Row │ ojo_i-x │ ojo_i-y │ ojo_d-x │ ojo_d-y │ nariz_frente-x │\n",
       "│     │ \u001b[90mInt64\u001b[39m   │ \u001b[90mInt64\u001b[39m   │ \u001b[90mInt64\u001b[39m   │ \u001b[90mInt64\u001b[39m   │ \u001b[90mInt64\u001b[39m          │\n",
       "├─────┼─────────┼─────────┼─────────┼─────────┼────────────────┤\n",
       "│ 1   │ 35      │ 45      │ 129     │ 45      │ 80             │\n",
       "│ 2   │ 37      │ 44      │ 133     │ 44      │ 82             │\n",
       "│ 3   │ 32      │ 39      │ 128     │ 39      │ 78             │\n",
       "│ 4   │ 39      │ 48      │ 133     │ 47      │ 84             │\n",
       "│ 5   │ 35      │ 50      │ 130     │ 50      │ 82             │\n",
       "│ 6   │ 36      │ 47      │ 132     │ 48      │ 83             │\n",
       "│ 7   │ 33      │ 50      │ 130     │ 51      │ 80             │\n",
       "│ 8   │ 36      │ 41      │ 131     │ 42      │ 83             │\n",
       "│ 9   │ 34      │ 50      │ 131     │ 51      │ 82             │\n",
       "│ 10  │ 36      │ 40      │ 131     │ 41      │ 80             │\n",
       "│ 11  │ 37      │ 49      │ 136     │ 52      │ 88             │\n",
       "│ 12  │ 33      │ 40      │ 129     │ 42      │ 81             │\n",
       "│ 13  │ 43      │ 36      │ 145     │ 39      │ 94             │\n",
       "│ 14  │ 36      │ 49      │ 133     │ 50      │ 82             │\n",
       "│ 15  │ 34      │ 51      │ 130     │ 51      │ 78             │\n",
       "│ 16  │ 35      │ 49      │ 133     │ 47      │ 82             │\n",
       "│ 17  │ 32      │ 37      │ 132     │ 39      │ 78             │\n",
       "│ 18  │ 34      │ 53      │ 128     │ 55      │ 79             │"
      ]
     },
     "execution_count": 18,
     "metadata": {},
     "output_type": "execute_result"
    }
   ],
   "source": [
    "landmarks_train = DataFrame(CSV.File(\"../datasets/CroppedYale/coords_15_landmarks.csv\"))\n",
    "# We have to move \"marco\" pixels in x and y axis because the black background"
   ]
  },
  {
   "cell_type": "markdown",
   "metadata": {},
   "source": [
    "- getting HOG features of the landmarks using a 20 $\\times$ 20 window. \n",
    "\n",
    "The pixel's coordinates have to be the center of the window (actually, is the (10,10) pixel, we don't have a center here)."
   ]
  },
  {
   "cell_type": "code",
   "execution_count": 19,
   "metadata": {},
   "outputs": [
    {
     "data": {
      "text/plain": [
       "HOG(8, 4, 1, 1, \"L2-norm\")"
      ]
     },
     "execution_count": 19,
     "metadata": {},
     "output_type": "execute_result"
    }
   ],
   "source": [
    "HOG(orientations = 8, cell_size = 4, block_size = 1, block_stride = 1, norm_method = \"L2-norm\")"
   ]
  },
  {
   "cell_type": "code",
   "execution_count": 20,
   "metadata": {},
   "outputs": [
    {
     "data": {
      "text/plain": [
       "HOG"
      ]
     },
     "execution_count": 20,
     "metadata": {},
     "output_type": "execute_result"
    }
   ],
   "source": [
    "HOG() = HOG(orientations = 8, cell_size = 4, block_size = 1, block_stride = 1, norm_method = \"L2-norm\")"
   ]
  },
  {
   "cell_type": "code",
   "execution_count": 21,
   "metadata": {},
   "outputs": [
    {
     "data": {
      "text/plain": [
       "28"
      ]
     },
     "execution_count": 21,
     "metadata": {},
     "output_type": "execute_result"
    }
   ],
   "source": [
    "w_size = 28"
   ]
  },
  {
   "cell_type": "code",
   "execution_count": 38,
   "metadata": {},
   "outputs": [
    {
     "data": {
      "text/plain": [
       "make_fgb (generic function with 1 method)"
      ]
     },
     "execution_count": 38,
     "metadata": {},
     "output_type": "execute_result"
    }
   ],
   "source": [
    "function make_fgb(landmarks_train, tensor, marco, w_size)\n",
    "    FGB = Dict()\n",
    "    columns = names(landmarks_train)\n",
    "    for idx = 1:size(tensor)[1]\n",
    "        FGB[\"$idx\"] = Dict()\n",
    "        for (idx2, name) = enumerate(columns[1:2:end])\n",
    "            FGB[\"$idx\"][\"$(name[1:end-2])\"] = Dict(\"X\" => [landmarks_train[idx, columns[2idx2]] + marco + 1, landmarks_train[idx, columns[2idx2-1]] + marco + 1],\n",
    "            \"J\" => create_descriptor(tensor[idx, landmarks_train[idx, columns[2idx2]] + marco + 1 - Int(w_size/2):landmarks_train[idx, columns[2idx2]] + marco + Int(w_size/2),\n",
    "                landmarks_train[idx, columns[2idx2-1]] + marco + 1 - Int(w_size/2):landmarks_train[idx, columns[2idx2-1]] + marco + Int(w_size/2)], HOG()))\n",
    "        end\n",
    "    end\n",
    "    return FGB\n",
    "end"
   ]
  },
  {
   "cell_type": "code",
   "execution_count": 42,
   "metadata": {},
   "outputs": [],
   "source": [
    "FGB = make_fgb(landmarks_train, tensor, marco, w_size);"
   ]
  },
  {
   "cell_type": "markdown",
   "metadata": {},
   "source": [
    "- location of facial landmarks \n",
    "\n",
    "1.- Initial estimation of the facial landmark location, $X^{s}_{i}$. This estimate is based on the mean of displacements between the i-th keypoint and the j-th (j<i) keypoints \n",
    "\n",
    "2.- Calculate the HOG descriptor on the previous location, HOG($X^{s}_{i}$)."
   ]
  },
  {
   "cell_type": "code",
   "execution_count": 33,
   "metadata": {},
   "outputs": [
    {
     "data": {
      "text/plain": [
       "estimate_landmarks (generic function with 2 methods)"
      ]
     },
     "execution_count": 33,
     "metadata": {},
     "output_type": "execute_result"
    }
   ],
   "source": [
    "function d(var_i, var_j, FGB)\n",
    "    x, y = 0, 0\n",
    "    for key = keys(FGB)\n",
    "        x += (FGB[key][var_i][\"X\"] - FGB[key][var_j][\"X\"])[2]\n",
    "        y += (FGB[key][var_i][\"X\"] - FGB[key][var_j][\"X\"])[1]\n",
    "    end\n",
    "    d = [x, y] ./ length(keys(FGB))\n",
    "    return d\n",
    "end\n",
    "\n",
    "function X_s(x_j, var_i, var_j, FGB)\n",
    "    x = d(var_i, var_j, FGB)\n",
    "    X =  x_j + [x[2], x[1]]\n",
    "    return X\n",
    "end \n",
    "\n",
    "function estimate_landmarks(img, coord_eyes, w_size, marco, FGB)\n",
    "    img_dic = Dict(\"ojo_i\" => Dict(\"X\" => coord_eyes[1:2] .+ 1, \n",
    "            \"J\" => create_descriptor(img[coord_eyes[2] - Int(w_size/2) + 1:coord_eyes[2] + Int(w_size/2), coord_eyes[1] - Int(w_size/2) + 1:coord_eyes[1] + Int(w_size/2)], HOG())), \n",
    "                    \"ojo_d\" => Dict(\"X\" => coord_eyes[3:4] .+ 1,\n",
    "            \"J\" => create_descriptor(img[coord_eyes[4] - Int(w_size/2) + 1:coord_eyes[4] + Int(w_size/2), coord_eyes[3] - Int(w_size/2) + 1:coord_eyes[3] + Int(w_size/2)], HOG())))\n",
    "\n",
    "    chars_order = [\"ojo_i\", \"ojo_d\", \"nariz_frente\", \"lagrimal_i\", \"lagrimal_d\", \"ceja1_i\", \"ceja1_d\", \n",
    "                    \"ceja2_i\", \"ceja2_d\", \"nariz1\", \"nariz2\", \"nariz3\", \"boca1\", \"boca2\", \"boca3\"]\n",
    "    \n",
    "    for count in 3:length(chars_order)\n",
    "        X_1, X_2 = 0, 0\n",
    "        for char in 1:count-1\n",
    "            X_1 += X_s(img_dic[chars_order[char]][\"X\"], chars_order[count], chars_order[char], FGB)[1]\n",
    "            X_2 += X_s(img_dic[chars_order[char]][\"X\"], chars_order[count], chars_order[char], FGB)[2]\n",
    "        end\n",
    "        X = round.(Int, [X_2, X_1] ./ (count - 1))\n",
    "        if X[1] < marco\n",
    "            X[1] = marco\n",
    "        elseif X[1] > size(img)[1] - marco\n",
    "            X[1] = size(img)[1] - marco\n",
    "        elseif X[2] < marco\n",
    "            X[2] = marco\n",
    "        elseif X[2] > size(img)[1] - marco\n",
    "            X[2] = size(img)[1] - marco\n",
    "        end\n",
    "        img_dic[chars_order[count]] = Dict(\"X\" => X,\n",
    "                        \"J\" => create_descriptor(img[X[2] - Int(w_size/2) + 1:X[2] + Int(w_size/2), X[1] - Int(w_size/2) + 1:X[1] + Int(w_size/2)], HOG()))\n",
    "    end\n",
    "    return img_dic\n",
    "end"
   ]
  },
  {
   "cell_type": "markdown",
   "metadata": {},
   "source": [
    "3.- Compare HOG($X^{s}_{i}$) with the $fbg_{i}(k)$, $0 \\leq k \\leq N_{f}$ in the FBG and let:\n",
    "\n",
    "$$\n",
    "k_{min} = min_{k}||HOG(X^{s}_{i}) - fbg_{i}(k)||\n",
    "$$"
   ]
  },
  {
   "cell_type": "code",
   "execution_count": 34,
   "metadata": {},
   "outputs": [
    {
     "data": {
      "text/plain": [
       "get_kmin (generic function with 1 method)"
      ]
     },
     "execution_count": 34,
     "metadata": {},
     "output_type": "execute_result"
    }
   ],
   "source": [
    "chars_order = [\"ojo_i\", \"ojo_d\", \"nariz_frente\", \"lagrimal_i\", \"lagrimal_d\", \"ceja1_i\", \"ceja1_d\", \n",
    "                    \"ceja2_i\", \"ceja2_d\", \"nariz1\", \"nariz2\", \"nariz3\", \"boca1\", \"boca2\", \"boca3\"];\n",
    "\n",
    "function get_kmin(test_dic, FGB, chars_order)\n",
    "    k_min = Dict()\n",
    "    for char = chars_order \n",
    "        k_min[char] = argmin(norm.([each_FGB_elmt - test_dic[char][\"J\"] for each_FGB_elmt = [FGB[\"$llave\"][char][\"J\"] for llave = sort(Meta.parse.(collect(keys(FGB))))]]))\n",
    "    end\n",
    "    return k_min\n",
    "end"
   ]
  },
  {
   "cell_type": "markdown",
   "metadata": {},
   "source": [
    "4.- Define a search area $S_{i}$ around $X^{s}_{i}$. The extent of the search area depends on the particular keypoint. \"We empirically set the search areas considering the dispersion of the location of facial landmarks in the FBG for eachkeypoint\"."
   ]
  },
  {
   "cell_type": "markdown",
   "metadata": {},
   "source": [
    "5.- Refine the initial estimate of the _i_-th keypoint using the descriptor $fbg_{i}(k_{min})$:\n",
    "\n",
    "$$\n",
    "X_{i} = min_{X \\in S_{i}} ||HOG(X) - fbg_{i}(k_{min})||\n",
    "$$"
   ]
  },
  {
   "cell_type": "code",
   "execution_count": 35,
   "metadata": {},
   "outputs": [
    {
     "data": {
      "text/plain": [
       "refine_dic (generic function with 1 method)"
      ]
     },
     "execution_count": 35,
     "metadata": {},
     "output_type": "execute_result"
    }
   ],
   "source": [
    "function refine_dic(FGB, test_dic, img_test, k_min, w_size, chars_order)\n",
    "    s_area = Dict(\"ojo_i\" => [0:0, 0:0],\n",
    "                \"ojo_d\" => [0:0, 0:0],\n",
    "                \"nariz_frente\" => [0:3, 1:-1:-4],\n",
    "                \"lagrimal_i\" => [-1:4, 2:-1:-3],\n",
    "                \"lagrimal_d\" => [-2:3, 4:-1:-1],\n",
    "                \"ceja1_i\" => [-1:5, 4:-1:-2],\n",
    "                \"ceja1_d\" => [-5:2, 5:-1:-2],\n",
    "                \"ceja2_i\" => [0:0, 0:0],# The image has no space to move the window\n",
    "                \"ceja2_d\" => [0:0, 0:0], # The image has no space to move the window\n",
    "                \"nariz1\" => [-1:4, 6:-1:-6],\n",
    "                \"nariz2\" => [-1:4, 6:-1:-5],\n",
    "                \"nariz3\" => [-1:4, 6:-1:-5],\n",
    "                \"boca1\" => [-2:0, 6:-1:-6],\n",
    "                \"boca2\" => [-2:7, 4:-1:-2],\n",
    "                \"boca3\" => [-6:4, 1:-1:-4]);\n",
    "    \n",
    "    for char = chars_order\n",
    "        min_s = []\n",
    "        min_x = []\n",
    "        for j = s_area[char][2]\n",
    "            for i = s_area[char][1]\n",
    "                push!(min_s, norm(create_descriptor(img_test[(test_dic[char][\"X\"][2] + j - Int(w_size/2) + 1):(test_dic[char][\"X\"][2] + j + Int(w_size/2)),\n",
    "                    (test_dic[char][\"X\"][1] + i - Int(w_size/2) + 1):(test_dic[char][\"X\"][1] + i + Int(w_size/2))], HOG()) - FGB[\"$(k_min[char])\"][char][\"J\"]))\n",
    "                push!(min_x, round.(Int, [test_dic[char][\"X\"][1] + i, test_dic[char][\"X\"][2] + j]))\n",
    "            end\n",
    "        end\n",
    "        a_min = argmin(min_s)\n",
    "        test_dic[char][\"X\"] = min_x[a_min]\n",
    "        test_dic[char][\"J\"] = create_descriptor(img_test[test_dic[char][\"X\"][2] - Int(w_size/2) + 1:test_dic[char][\"X\"][2] + Int(w_size/2),\n",
    "                                test_dic[char][\"X\"][1] - Int(w_size/2) + 1:test_dic[char][\"X\"][1] + Int(w_size/2)],HOG())\n",
    "    end\n",
    "    return test_dic\n",
    "end"
   ]
  },
  {
   "cell_type": "markdown",
   "metadata": {},
   "source": [
    "- comparing two face graphs\n",
    "\n",
    "To compare two face graphs $FG^{k}$ and $FG^{l}$ from two different faces, we just sum up the distances between corresponding key-point descriptors $J^{k}_{i}$ and $J^{l}_{i}$:\n",
    "\n",
    "$$\n",
    "D_{kl} = |FG^{k},FG^{l}| = \\sum ^{15}_{i=1}||J^{k}_{i} - J^{l}_{i}||\n",
    "$$"
   ]
  },
  {
   "cell_type": "code",
   "execution_count": 45,
   "metadata": {},
   "outputs": [],
   "source": [
    "path = \"../datasets/CroppedYale/\"\n",
    "images = [\"yaleB01/yaleB01_P00A-020E-10.pgm\", \"yaleB02/yaleB02_P00A-010E+00.pgm\", \"yaleB03/yaleB03_P00A-010E+00.pgm\",\n",
    "        \"yaleB04/yaleB04_P00A-010E-20.pgm\", \"yaleB05/yaleB05_P00A-010E+00.pgm\", \"yaleB06/yaleB06_P00A-010E+00.pgm\",\n",
    "        \"yaleB07/yaleB07_P00A-010E+00.pgm\", \"yaleB08/yaleB08_P00A-010E+00.pgm\", \"yaleB09/yaleB09_P00A-010E+00.pgm\",\n",
    "        \"yaleB10/yaleB10_P00A-010E+00.pgm\", \"yaleB11/yaleB11_P00A-010E+00.pgm\", \"yaleB12/yaleB12_P00A-010E+00.pgm\",\n",
    "        \"yaleB13/yaleB13_P00A-010E+00.pgm\", \"yaleB15/yaleB15_P00A-010E+00.pgm\", \"yaleB16/yaleB16_P00A-020E+10.pgm\",\n",
    "        \"yaleB17/yaleB17_P00A-005E+10.pgm\", \"yaleB18/yaleB18_P00A-010E-20.pgm\", \"yaleB19/yaleB19_P00A-010E+00.pgm\"]\n",
    "coord_tests = [43 55 138 55;46 53 142 55;42 49 138 48;47 56 141 56;44 59 140 59;44 57 142 56;43 60 139 61;\n",
    "            45 51 141 52;42 59 141 59;46 49 141 50;46 59 145 61;43 50 138 51;54 45 154 48;43 58 143 60;\n",
    "            43 60 140 61;45 59 142 56; #,93,51,67,65,121,63,109,41,68,41,31,29,158,23,96,123,65,114,126,109,97,153,65,160,137,156]\n",
    "            40 47 141 48;44 63 138 64] .+ marco .- 10\n",
    "var = 1\n",
    "img_test = zeros(192 + 2marco, 168 + 2marco)\n",
    "img_test[marco:(192+marco-1), marco:(168+marco-1)], coord_test = load(path*images[var]), coord_tests[var,:]\n",
    "test_dic = estimate_landmarks(img_test, coord_test, w_size, marco, FGB)\n",
    "k_min = get_kmin(test_dic, FGB, chars_order)\n",
    "test_dic = refine_dic(FGB, test_dic, img_test, k_min, w_size, chars_order);"
   ]
  },
  {
   "cell_type": "code",
   "execution_count": 46,
   "metadata": {},
   "outputs": [
    {
     "name": "stdout",
     "output_type": "stream",
     "text": [
      "(key, D) = (\"4\", 87.00112390746435)\n",
      "(key, D) = (\"1\", 81.13467417209425)\n",
      "(key, D) = (\"12\", 93.31234818813037)\n",
      "(key, D) = (\"2\", 90.23393026482901)\n",
      "(key, D) = (\"6\", 93.29654653487793)\n",
      "(key, D) = (\"11\", 92.99600234111884)\n",
      "(key, D) = (\"13\", 93.16334270745247)\n",
      "(key, D) = (\"5\", 91.34816943374071)\n",
      "(key, D) = (\"15\", 88.40644584713692)\n",
      "(key, D) = (\"16\", 87.7965228862327)\n",
      "(key, D) = (\"14\", 90.37680212183783)\n",
      "(key, D) = (\"7\", 90.88460176934353)\n",
      "(key, D) = (\"8\", 90.72420950239203)\n",
      "(key, D) = (\"17\", 89.88839027196289)\n",
      "(key, D) = (\"10\", 89.5810877793765)\n",
      "(key, D) = (\"9\", 88.38917975477976)\n",
      "(key, D) = (\"18\", 89.92898321758798)\n",
      "(key, D) = (\"3\", 86.55953523322522)\n"
     ]
    },
    {
     "data": {
      "text/plain": [
       "\"1\""
      ]
     },
     "execution_count": 46,
     "metadata": {},
     "output_type": "execute_result"
    }
   ],
   "source": [
    "min = Inf\n",
    "face = \"\"\n",
    "for key in keys(FGB)\n",
    "    D = sum([norm(test_dic[char][\"J\"] - FGB[key][char][\"J\"]) for char in chars_order])\n",
    "    @show key, D\n",
    "    if D <= min\n",
    "        min = D\n",
    "        face = key\n",
    "    end\n",
    "end\n",
    "face"
   ]
  },
  {
   "cell_type": "code",
   "execution_count": null,
   "metadata": {},
   "outputs": [],
   "source": []
  }
 ],
 "metadata": {
  "kernelspec": {
   "display_name": "Julia 1.1.1",
   "language": "julia",
   "name": "julia-1.1"
  },
  "language_info": {
   "file_extension": ".jl",
   "mimetype": "application/julia",
   "name": "julia",
   "version": "1.1.1"
  }
 },
 "nbformat": 4,
 "nbformat_minor": 4
}
