{
 "cells": [
  {
   "cell_type": "code",
   "execution_count": 2,
   "metadata": {},
   "outputs": [],
   "source": [
    "#using CUDAdrv, CuArrays, CUDAnative, Test, BenchmarkTools\n",
    "using CUDA, BenchmarkTools, Test"
   ]
  },
  {
   "cell_type": "code",
   "execution_count": 3,
   "metadata": {},
   "outputs": [
    {
     "data": {
      "text/plain": [
       "kernel (generic function with 1 method)"
      ]
     },
     "execution_count": 3,
     "metadata": {},
     "output_type": "execute_result"
    }
   ],
   "source": [
    "function kernel(C::AbstractVecOrMat{R}, A::AbstractVecOrMat{T}, B::AbstractVecOrMat{S}) where {T,S,R}\n",
    "        i = (blockIdx().x-1) * blockDim().x + threadIdx().x\n",
    "        j = (blockIdx().y-1) * blockDim().y + threadIdx().y\n",
    "        if i <= size(A,1) && j <= size(B,2)\n",
    "            z2 = zero(A[i, 1]*B[1, j] + A[i, 1]*B[1, j])\n",
    "            Ctmp = convert(promote_type(R, typeof(z2)), z2)\n",
    "            for k in 1:size(A,2)\n",
    "                Ctmp += A[i, k]*B[k, j]\n",
    "            end\n",
    "            C[i,j] = Ctmp\n",
    "        end\n",
    "        return\n",
    "end"
   ]
  },
  {
   "cell_type": "code",
   "execution_count": 4,
   "metadata": {},
   "outputs": [
    {
     "data": {
      "text/plain": [
       "cuda_bench (generic function with 1 method)"
      ]
     },
     "execution_count": 4,
     "metadata": {},
     "output_type": "execute_result"
    }
   ],
   "source": [
    "function cuda_bench(d_c, d_A, d_B, threads, blocks)\n",
    "    @cuda threads=threads blocks=blocks kernel(d_C, d_A, d_B)\n",
    "end"
   ]
  },
  {
   "cell_type": "code",
   "execution_count": 7,
   "metadata": {},
   "outputs": [],
   "source": [
    "dim_x = 2\n",
    "dims = (257, dim_x)\n",
    "A = round.(rand(Float32, dims) * 100)\n",
    "B = round.(rand(Float32, dim_x, size(A,1)) * 100)\n",
    "C = Array{Float32}(undef, size(A,1), size(B,2))\n",
    "\n",
    "d_A = CuArray(A)\n",
    "d_B = CuArray(B)\n",
    "d_C = CuArray(C);"
   ]
  },
  {
   "cell_type": "code",
   "execution_count": 8,
   "metadata": {},
   "outputs": [
    {
     "name": "stdout",
     "output_type": "stream",
     "text": [
      "  3.651 μs (36 allocations: 1.36 KiB)\n",
      "  3.376 μs (9 allocations: 368 bytes)\n",
      "  13.414 μs (2 allocations: 258.14 KiB)\n"
     ]
    }
   ],
   "source": [
    "max_threads = 256\n",
    "threads_x = min(max_threads, size(C, 1))\n",
    "threads_y = min(max_threads ÷ threads_x, size(C, 2))\n",
    "threads = (threads_x, threads_y)\n",
    "blocks = ceil.(Int, (size(C, 1), size(C, 2)) ./ threads)\n",
    "@btime cuda_bench(d_C, d_A, d_B, threads, blocks) \n",
    "@btime d_A*d_B\n",
    "@btime A*B;"
   ]
  },
  {
   "cell_type": "code",
   "execution_count": null,
   "metadata": {},
   "outputs": [],
   "source": []
  }
 ],
 "metadata": {
  "kernelspec": {
   "display_name": "Julia 1.4.2",
   "language": "julia",
   "name": "julia-1.4"
  },
  "language_info": {
   "file_extension": ".jl",
   "mimetype": "application/julia",
   "name": "julia",
   "version": "1.4.2"
  }
 },
 "nbformat": 4,
 "nbformat_minor": 2
}
