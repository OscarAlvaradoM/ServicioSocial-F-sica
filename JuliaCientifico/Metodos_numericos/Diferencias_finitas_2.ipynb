{
 "cells": [
  {
   "cell_type": "markdown",
   "metadata": {},
   "source": [
    "# Diferencias finitas\n",
    "- Óscar Alvarado"
   ]
  },
  {
   "cell_type": "markdown",
   "metadata": {},
   "source": [
    "El método de diferencias finitas es una manera de discretizar una derivada tal y como se conoce de la definición de cálculo diferencial. Existen tres maneras de representar este modelo: **Hacia adelante**, **Hacia atrás** y **Centrado**, tal y como se muestra en la figura mostradaa continuación. Entonces, computacionalmente se reduce el tamañano de *h* tanto como se pueda y poder obtener la pendiente de la curva en cierto punto. Este método se utiliza para discretizar derivadas de cualquier orden y de varias variables."
   ]
  },
  {
   "cell_type": "code",
   "execution_count": 153,
   "metadata": {
    "scrolled": false
   },
   "outputs": [
    {
     "data": {
      "image/png": "[encoded data removed]"
     },
     "metadata": {},
     "output_type": "display_data"
    }
   ],
   "source": [
    "display(\"image/png\", read(\"Diferencias_finitas.png\"))"
   ]
  },
  {
   "cell_type": "code",
   "execution_count": 139,
   "metadata": {},
   "outputs": [],
   "source": [
    "using LinearAlgebra\n",
    "using Plots"
   ]
  },
  {
   "cell_type": "markdown",
   "metadata": {},
   "source": [
    "# 1-D"
   ]
  },
  {
   "cell_type": "code",
   "execution_count": 2,
   "metadata": {},
   "outputs": [
    {
     "data": {
      "text/plain": [
       "FD_Matrix (generic function with 2 methods)"
      ]
     },
     "execution_count": 2,
     "metadata": {},
     "output_type": "execute_result"
    }
   ],
   "source": [
    "function FD_Matrix(N, nodos, h, tipo = :F)\n",
    "    A = zeros(nodos, nodos)\n",
    "    # Forward\n",
    "    if tipo == :F \n",
    "        v = [((binomial(N, a))*(-1)^a)/(h^N) for a = N:-1:0]\n",
    "        for i in 0:N\n",
    "            A += diagm(i => [v[i+1] for j = 1:(nodos-i)])\n",
    "        end\n",
    "        return A\n",
    "    # Backward\n",
    "    elseif tipo == :B \n",
    "        v = [((binomial(N, a))*(-1)^a)/(h^N) for a = 0:N]\n",
    "        for i in 0:N\n",
    "            A += diagm(-i => [v[i+1] for j = 1:(nodos-i)])\n",
    "        end\n",
    "        return A\n",
    "    # Central\n",
    "    elseif tipo == :C\n",
    "        v = [((binomial(N, a))*(-1)^a)/(h^N) for a = 0:N]\n",
    "        if (N + 1) % 2 == 0\n",
    "            for i in (N+1)/2:-1:1\n",
    "                A += diagm(convert(UInt8, i) => [v[convert(UInt8, ((N+1)/2)-i+1)] for j = 1:(nodos-i)])\n",
    "                A += diagm(-1*convert(UInt8, i) => [v[convert(UInt8, end - (((N+1)/2)-i))] for j = 1:(nodos-i)])\n",
    "            end\n",
    "        else\n",
    "            for i in 0:N\n",
    "                A += diagm(i-convert(UInt8, (N/2)) => [v[i+1] for j = 1:(nodos-abs(i-convert(UInt8, (N/2))))])\n",
    "            end\n",
    "        end\n",
    "        return A\n",
    "    else\n",
    "        print(\"No\")\n",
    "    end\n",
    "end"
   ]
  },
  {
   "cell_type": "markdown",
   "metadata": {},
   "source": [
    "## Ecuación de ejercicio:\n",
    "$$\n",
    "\\dfrac{d^{2}u}{dx^{2}} + \\dfrac{1}{x}\\dfrac{du}{dx} - \\dfrac{u}{x^2} = 0,\n",
    "$$\n",
    "\n",
    "con condiciones iniciales $u(2) = 0.008$, $u(6.5) = 0.003$ y 4 nodos (rejilla de 3 espacios)."
   ]
  },
  {
   "cell_type": "code",
   "execution_count": 23,
   "metadata": {},
   "outputs": [
    {
     "data": {
      "text/plain": [
       "Ejercicio1_1 (generic function with 1 method)"
      ]
     },
     "execution_count": 23,
     "metadata": {},
     "output_type": "execute_result"
    }
   ],
   "source": [
    "function Ejercicio1_1(n, inicio, final, b)\n",
    "    h = (final-inicio)/(n-1) # Tamaño del intervalo sobre el eje x\n",
    "    x = inicio:h:final\n",
    "    \n",
    "    non_zeros = findall(!iszero, b)\n",
    "    inverse = [1/i for i in x]\n",
    "    \n",
    "    for i in non_zeros\n",
    "        inverse[i] = 0\n",
    "    end\n",
    "    A = FD_Matrix(2, n, h, :F) + Diagonal(inverse) * FD_Matrix(1, n, h, :F) - Diagonal(inverse .^ 2 )\n",
    "    \n",
    "    A[non_zeros, :] = zeros(length(non_zeros), size(A)[1])\n",
    "    \n",
    "    for j in non_zeros\n",
    "        A[j, j] = 1\n",
    "    end\n",
    "\n",
    "    sol = A \\ b\n",
    "    \n",
    "    return x, sol\n",
    "end   "
   ]
  },
  {
   "cell_type": "code",
   "execution_count": 28,
   "metadata": {},
   "outputs": [
    {
     "data": {
      "text/plain": [
       "0.003"
      ]
     },
     "execution_count": 28,
     "metadata": {},
     "output_type": "execute_result"
    }
   ],
   "source": [
    "# Condiciones iniciales\n",
    "n = 8 # Número de nodos\n",
    "inicio, final = 2, 6.5 # Extremos del intervalo\n",
    "b = zeros(n)\n",
    "b[1] = 0.008\n",
    "b[end] = 0.003"
   ]
  },
  {
   "cell_type": "markdown",
   "metadata": {},
   "source": [
    "## Condiciones iniciales"
   ]
  },
  {
   "cell_type": "code",
   "execution_count": 22,
   "metadata": {},
   "outputs": [
    {
     "data": {
      "image/svg+xml": [
       "<?xml version=\"1.0\" encoding=\"utf-8\"?>\n",
       "<svg xmlns=\"http://www.w3.org/2000/svg\" xmlns:xlink=\"http://www.w3.org/1999/xlink\" width=\"1000\" height=\"800\" viewBox=\"0 0 4000 3200\">\n",
       "<defs>\n",
       "  <clipPath id=\"clip2600\">\n",
       "    <rect x=\"0\" y=\"0\" width=\"4000\" height=\"3200\"/>\n",
       "  </clipPath>\n",
       "</defs>\n",
       "<path clip-path=\"url(#clip2600)\" d=\"\n",
       "M0 3200 L4000 3200 L4000 0 L0 0  Z\n",
       "  \" fill=\"#ffffff\" fill-rule=\"evenodd\" fill-opacity=\"1\"/>\n",
       "<defs>\n",
       "  <clipPath id=\"clip2601\">\n",
       "    <rect x=\"800\" y=\"0\" width=\"2801\" height=\"2801\"/>\n",
       "  </clipPath>\n",
       "</defs>\n",
       "<path clip-path=\"url(#clip2600)\" d=\"\n",
       "M223.423 3064.77 L3952.76 3064.77 L3952.76 47.2441 L223.423 47.2441  Z\n",
       "  \" fill=\"#ffffff\" fill-rule=\"evenodd\" fill-opacity=\"1\"/>\n",
       "<defs>\n",
       "  <clipPath id=\"clip2602\">\n",
       "    <rect x=\"223\" y=\"47\" width=\"3730\" height=\"3019\"/>\n",
       "  </clipPath>\n",
       "</defs>\n",
       "<polyline clip-path=\"url(#clip2602)\" style=\"stroke:#000000; stroke-width:2; stroke-opacity:0.1; fill:none\" points=\"\n",
       "  328.97,3064.77 328.97,47.2441 \n",
       "  \"/>\n",
       "<polyline clip-path=\"url(#clip2602)\" style=\"stroke:#000000; stroke-width:2; stroke-opacity:0.1; fill:none\" points=\"\n",
       "  1110.8,3064.77 1110.8,47.2441 \n",
       "  \"/>\n",
       "<polyline clip-path=\"url(#clip2602)\" style=\"stroke:#000000; stroke-width:2; stroke-opacity:0.1; fill:none\" points=\"\n",
       "  1892.63,3064.77 1892.63,47.2441 \n",
       "  \"/>\n",
       "<polyline clip-path=\"url(#clip2602)\" style=\"stroke:#000000; stroke-width:2; stroke-opacity:0.1; fill:none\" points=\"\n",
       "  2674.46,3064.77 2674.46,47.2441 \n",
       "  \"/>\n",
       "<polyline clip-path=\"url(#clip2602)\" style=\"stroke:#000000; stroke-width:2; stroke-opacity:0.1; fill:none\" points=\"\n",
       "  3456.29,3064.77 3456.29,47.2441 \n",
       "  \"/>\n",
       "<polyline clip-path=\"url(#clip2602)\" style=\"stroke:#000000; stroke-width:2; stroke-opacity:0.1; fill:none\" points=\"\n",
       "  223.423,2979.37 3952.76,2979.37 \n",
       "  \"/>\n",
       "<polyline clip-path=\"url(#clip2602)\" style=\"stroke:#000000; stroke-width:2; stroke-opacity:0.1; fill:none\" points=\"\n",
       "  223.423,2410.02 3952.76,2410.02 \n",
       "  \"/>\n",
       "<polyline clip-path=\"url(#clip2602)\" style=\"stroke:#000000; stroke-width:2; stroke-opacity:0.1; fill:none\" points=\"\n",
       "  223.423,1840.68 3952.76,1840.68 \n",
       "  \"/>\n",
       "<polyline clip-path=\"url(#clip2602)\" style=\"stroke:#000000; stroke-width:2; stroke-opacity:0.1; fill:none\" points=\"\n",
       "  223.423,1271.34 3952.76,1271.34 \n",
       "  \"/>\n",
       "<polyline clip-path=\"url(#clip2602)\" style=\"stroke:#000000; stroke-width:2; stroke-opacity:0.1; fill:none\" points=\"\n",
       "  223.423,701.993 3952.76,701.993 \n",
       "  \"/>\n",
       "<polyline clip-path=\"url(#clip2602)\" style=\"stroke:#000000; stroke-width:2; stroke-opacity:0.1; fill:none\" points=\"\n",
       "  223.423,132.649 3952.76,132.649 \n",
       "  \"/>\n",
       "<polyline clip-path=\"url(#clip2600)\" style=\"stroke:#000000; stroke-width:4; stroke-opacity:1; fill:none\" points=\"\n",
       "  223.423,3064.77 3952.76,3064.77 \n",
       "  \"/>\n",
       "<polyline clip-path=\"url(#clip2600)\" style=\"stroke:#000000; stroke-width:4; stroke-opacity:1; fill:none\" points=\"\n",
       "  223.423,3064.77 223.423,47.2441 \n",
       "  \"/>\n",
       "<polyline clip-path=\"url(#clip2600)\" style=\"stroke:#000000; stroke-width:4; stroke-opacity:1; fill:none\" points=\"\n",
       "  328.97,3064.77 328.97,3028.56 \n",
       "  \"/>\n",
       "<polyline clip-path=\"url(#clip2600)\" style=\"stroke:#000000; stroke-width:4; stroke-opacity:1; fill:none\" points=\"\n",
       "  1110.8,3064.77 1110.8,3028.56 \n",
       "  \"/>\n",
       "<polyline clip-path=\"url(#clip2600)\" style=\"stroke:#000000; stroke-width:4; stroke-opacity:1; fill:none\" points=\"\n",
       "  1892.63,3064.77 1892.63,3028.56 \n",
       "  \"/>\n",
       "<polyline clip-path=\"url(#clip2600)\" style=\"stroke:#000000; stroke-width:4; stroke-opacity:1; fill:none\" points=\"\n",
       "  2674.46,3064.77 2674.46,3028.56 \n",
       "  \"/>\n",
       "<polyline clip-path=\"url(#clip2600)\" style=\"stroke:#000000; stroke-width:4; stroke-opacity:1; fill:none\" points=\"\n",
       "  3456.29,3064.77 3456.29,3028.56 \n",
       "  \"/>\n",
       "<polyline clip-path=\"url(#clip2600)\" style=\"stroke:#000000; stroke-width:4; stroke-opacity:1; fill:none\" points=\"\n",
       "  223.423,2979.37 268.175,2979.37 \n",
       "  \"/>\n",
       "<polyline clip-path=\"url(#clip2600)\" style=\"stroke:#000000; stroke-width:4; stroke-opacity:1; fill:none\" points=\"\n",
       "  223.423,2410.02 268.175,2410.02 \n",
       "  \"/>\n",
       "<polyline clip-path=\"url(#clip2600)\" style=\"stroke:#000000; stroke-width:4; stroke-opacity:1; fill:none\" points=\"\n",
       "  223.423,1840.68 268.175,1840.68 \n",
       "  \"/>\n",
       "<polyline clip-path=\"url(#clip2600)\" style=\"stroke:#000000; stroke-width:4; stroke-opacity:1; fill:none\" points=\"\n",
       "  223.423,1271.34 268.175,1271.34 \n",
       "  \"/>\n",
       "<polyline clip-path=\"url(#clip2600)\" style=\"stroke:#000000; stroke-width:4; stroke-opacity:1; fill:none\" points=\"\n",
       "  223.423,701.993 268.175,701.993 \n",
       "  \"/>\n",
       "<polyline clip-path=\"url(#clip2600)\" style=\"stroke:#000000; stroke-width:4; stroke-opacity:1; fill:none\" points=\"\n",
       "  223.423,132.649 268.175,132.649 \n",
       "  \"/>\n",
       "<g clip-path=\"url(#clip2600)\">\n",
       "<text style=\"fill:#000000; fill-opacity:1; font-family:Arial,Helvetica Neue,Helvetica,sans-serif; font-size:48px; text-anchor:middle;\" transform=\"rotate(0, 328.97, 3126.77)\" x=\"328.97\" y=\"3126.77\">2</text>\n",
       "</g>\n",
       "<g clip-path=\"url(#clip2600)\">\n",
       "<text style=\"fill:#000000; fill-opacity:1; font-family:Arial,Helvetica Neue,Helvetica,sans-serif; font-size:48px; text-anchor:middle;\" transform=\"rotate(0, 1110.8, 3126.77)\" x=\"1110.8\" y=\"3126.77\">3</text>\n",
       "</g>\n",
       "<g clip-path=\"url(#clip2600)\">\n",
       "<text style=\"fill:#000000; fill-opacity:1; font-family:Arial,Helvetica Neue,Helvetica,sans-serif; font-size:48px; text-anchor:middle;\" transform=\"rotate(0, 1892.63, 3126.77)\" x=\"1892.63\" y=\"3126.77\">4</text>\n",
       "</g>\n",
       "<g clip-path=\"url(#clip2600)\">\n",
       "<text style=\"fill:#000000; fill-opacity:1; font-family:Arial,Helvetica Neue,Helvetica,sans-serif; font-size:48px; text-anchor:middle;\" transform=\"rotate(0, 2674.46, 3126.77)\" x=\"2674.46\" y=\"3126.77\">5</text>\n",
       "</g>\n",
       "<g clip-path=\"url(#clip2600)\">\n",
       "<text style=\"fill:#000000; fill-opacity:1; font-family:Arial,Helvetica Neue,Helvetica,sans-serif; font-size:48px; text-anchor:middle;\" transform=\"rotate(0, 3456.29, 3126.77)\" x=\"3456.29\" y=\"3126.77\">6</text>\n",
       "</g>\n",
       "<g clip-path=\"url(#clip2600)\">\n",
       "<text style=\"fill:#000000; fill-opacity:1; font-family:Arial,Helvetica Neue,Helvetica,sans-serif; font-size:48px; text-anchor:end;\" transform=\"rotate(0, 183.423, 2996.87)\" x=\"183.423\" y=\"2996.87\">0.003</text>\n",
       "</g>\n",
       "<g clip-path=\"url(#clip2600)\">\n",
       "<text style=\"fill:#000000; fill-opacity:1; font-family:Arial,Helvetica Neue,Helvetica,sans-serif; font-size:48px; text-anchor:end;\" transform=\"rotate(0, 183.423, 2427.52)\" x=\"183.423\" y=\"2427.52\">0.004</text>\n",
       "</g>\n",
       "<g clip-path=\"url(#clip2600)\">\n",
       "<text style=\"fill:#000000; fill-opacity:1; font-family:Arial,Helvetica Neue,Helvetica,sans-serif; font-size:48px; text-anchor:end;\" transform=\"rotate(0, 183.423, 1858.18)\" x=\"183.423\" y=\"1858.18\">0.005</text>\n",
       "</g>\n",
       "<g clip-path=\"url(#clip2600)\">\n",
       "<text style=\"fill:#000000; fill-opacity:1; font-family:Arial,Helvetica Neue,Helvetica,sans-serif; font-size:48px; text-anchor:end;\" transform=\"rotate(0, 183.423, 1288.84)\" x=\"183.423\" y=\"1288.84\">0.006</text>\n",
       "</g>\n",
       "<g clip-path=\"url(#clip2600)\">\n",
       "<text style=\"fill:#000000; fill-opacity:1; font-family:Arial,Helvetica Neue,Helvetica,sans-serif; font-size:48px; text-anchor:end;\" transform=\"rotate(0, 183.423, 719.493)\" x=\"183.423\" y=\"719.493\">0.007</text>\n",
       "</g>\n",
       "<g clip-path=\"url(#clip2600)\">\n",
       "<text style=\"fill:#000000; fill-opacity:1; font-family:Arial,Helvetica Neue,Helvetica,sans-serif; font-size:48px; text-anchor:end;\" transform=\"rotate(0, 183.423, 150.149)\" x=\"183.423\" y=\"150.149\">0.008</text>\n",
       "</g>\n",
       "<polyline clip-path=\"url(#clip2602)\" style=\"stroke:#000000; stroke-width:12; stroke-opacity:1; fill:none\" stroke-dasharray=\"48, 30\" points=\"\n",
       "  328.97,132.646 351.816,195.211 374.661,255.958 397.507,314.961 420.353,372.293 443.198,428.022 466.044,482.214 488.89,534.928 511.735,586.223 534.581,636.155 \n",
       "  557.427,684.774 580.273,732.131 603.118,778.273 625.964,823.245 648.81,867.088 671.655,909.845 694.501,951.552 717.347,992.248 740.193,1031.97 763.038,1070.74 \n",
       "  785.884,1108.61 808.73,1145.59 831.575,1181.72 854.421,1217.03 877.267,1251.54 900.113,1285.28 922.958,1318.28 945.804,1350.55 968.65,1382.12 991.495,1413.01 \n",
       "  1014.34,1443.24 1037.19,1472.83 1060.03,1501.81 1082.88,1530.18 1105.72,1557.97 1128.57,1585.19 1151.42,1611.86 1174.26,1638 1197.11,1663.62 1219.95,1688.73 \n",
       "  1242.8,1713.35 1265.64,1737.5 1288.49,1761.17 1311.34,1784.4 1334.18,1807.19 1357.03,1829.54 1379.87,1851.48 1402.72,1873.02 1425.56,1894.16 1448.41,1914.91 \n",
       "  1471.26,1935.28 1494.1,1955.29 1516.95,1974.94 1539.79,1994.25 1562.64,2013.21 1585.48,2031.84 1608.33,2050.15 1631.18,2068.14 1654.02,2085.82 1676.87,2103.2 \n",
       "  1699.71,2120.29 1722.56,2137.09 1745.4,2153.6 1768.25,2169.85 1791.1,2185.82 1813.94,2201.54 1836.79,2216.99 1859.63,2232.2 1882.48,2247.16 1905.32,2261.88 \n",
       "  1928.17,2276.37 1951.02,2290.62 1973.86,2304.65 1996.71,2318.47 2019.55,2332.06 2042.4,2345.45 2065.24,2358.63 2088.09,2371.61 2110.93,2384.38 2133.78,2396.97 \n",
       "  2156.63,2409.36 2179.47,2421.57 2202.32,2433.6 2225.16,2445.45 2248.01,2457.12 2270.85,2468.62 2293.7,2479.95 2316.55,2491.12 2339.39,2502.12 2362.24,2512.97 \n",
       "  2385.08,2523.65 2407.93,2534.19 2430.77,2544.57 2453.62,2554.81 2476.47,2564.91 2499.31,2574.86 2522.16,2584.67 2545,2594.34 2567.85,2603.88 2590.69,2613.29 \n",
       "  2613.54,2622.57 2636.39,2631.72 2659.23,2640.74 2682.08,2649.64 2704.92,2658.42 2727.77,2667.09 2750.61,2675.63 2773.46,2684.06 2796.31,2692.38 2819.15,2700.59 \n",
       "  2842,2708.69 2864.84,2716.68 2887.69,2724.56 2910.53,2732.34 2933.38,2740.02 2956.23,2747.6 2979.07,2755.08 3001.92,2762.47 3024.76,2769.75 3047.61,2776.95 \n",
       "  3070.45,2784.05 3093.3,2791.06 3116.15,2797.98 3138.99,2804.81 3161.84,2811.56 3184.68,2818.22 3207.53,2824.8 3230.37,2831.29 3253.22,2837.7 3276.07,2844.03 \n",
       "  3298.91,2850.28 3321.76,2856.46 3344.6,2862.56 3367.45,2868.58 3390.29,2874.52 3413.14,2880.4 3435.99,2886.2 3458.83,2891.93 3481.68,2897.59 3504.52,2903.18 \n",
       "  3527.37,2908.7 3550.21,2914.16 3573.06,2919.55 3595.91,2924.87 3618.75,2930.13 3641.6,2935.32 3664.44,2940.46 3687.29,2945.53 3710.13,2950.54 3732.98,2955.49 \n",
       "  3755.83,2960.38 3778.67,2965.21 3801.52,2969.99 3824.36,2974.7 3847.21,2979.37 \n",
       "  \"/>\n",
       "<polyline clip-path=\"url(#clip2602)\" style=\"stroke:#e26f46; stroke-width:8; stroke-opacity:1; fill:none\" points=\"\n",
       "  328.97,132.649 3847.21,2979.37 \n",
       "  \"/>\n",
       "<polyline clip-path=\"url(#clip2602)\" style=\"stroke:#3da44d; stroke-width:8; stroke-opacity:1; fill:none\" points=\"\n",
       "  328.97,132.649 2088.09,2136.57 3847.21,2979.37 \n",
       "  \"/>\n",
       "<polyline clip-path=\"url(#clip2602)\" style=\"stroke:#c271d2; stroke-width:8; stroke-opacity:1; fill:none\" points=\"\n",
       "  328.97,132.649 1501.72,1767.61 2674.46,2536.67 3847.21,2979.37 \n",
       "  \"/>\n",
       "<polyline clip-path=\"url(#clip2602)\" style=\"stroke:#ac8d18; stroke-width:8; stroke-opacity:1; fill:none\" points=\"\n",
       "  328.97,132.649 1208.53,1527.39 2088.09,2251.81 2967.65,2689.66 3847.21,2979.37 \n",
       "  \"/>\n",
       "<polyline clip-path=\"url(#clip2602)\" style=\"stroke:#00a9ad; stroke-width:8; stroke-opacity:1; fill:none\" points=\"\n",
       "  328.97,132.649 1032.62,1351.92 1736.27,2037.25 2439.91,2471.15 3143.56,2767.11 3847.21,2979.37 \n",
       "  \"/>\n",
       "<polyline clip-path=\"url(#clip2602)\" style=\"stroke:#ed5d92; stroke-width:8; stroke-opacity:1; fill:none\" points=\"\n",
       "  328.97,132.649 915.343,1216.56 1501.72,1865.37 2088.09,2292.97 2674.46,2593.04 3260.84,2813 3847.21,2979.37 \n",
       "  \"/>\n",
       "<polyline clip-path=\"url(#clip2602)\" style=\"stroke:#c68125; stroke-width:8; stroke-opacity:1; fill:none\" points=\"\n",
       "  328.97,132.649 831.575,1108.54 1334.18,1723.18 1836.79,2142.33 2339.39,2443.98 2842,2669.54 3344.6,2843.04 3847.21,2979.37 \n",
       "  \"/>\n",
       "<polyline clip-path=\"url(#clip2602)\" style=\"stroke:#00a98d; stroke-width:8; stroke-opacity:1; fill:none\" points=\"\n",
       "  328.97,132.649 768.75,1020.19 1208.53,1603.07 1648.31,2012.35 2088.09,2313.45 2527.87,2542.64 2967.65,2721.6 3407.43,2864.13 3847.21,2979.37 \n",
       "  \"/>\n",
       "<polyline clip-path=\"url(#clip2602)\" style=\"stroke:#8e971d; stroke-width:8; stroke-opacity:1; fill:none\" points=\"\n",
       "  328.97,132.649 719.885,946.53 1110.8,1500.07 1501.72,1898.64 1892.63,2197.59 2283.55,2428.75 2674.46,2611.69 3065.38,2759.13 3456.29,2879.68 3847.21,2979.37 \n",
       "  \n",
       "  \"/>\n",
       "<polyline clip-path=\"url(#clip2602)\" style=\"stroke:#00a8cb; stroke-width:8; stroke-opacity:1; fill:none\" points=\"\n",
       "  328.97,132.649 680.794,884.163 1032.62,1410.67 1384.44,1798.15 1736.27,2093.78 2088.09,2325.59 2439.91,2511.26 2791.74,2662.5 3143.56,2787.38 3495.38,2891.6 \n",
       "  3847.21,2979.37 \n",
       "  \"/>\n",
       "<polyline clip-path=\"url(#clip2602)\" style=\"stroke:#9b7fe8; stroke-width:8; stroke-opacity:1; fill:none\" points=\"\n",
       "  328.97,132.649 648.81,830.669 968.65,1332.29 1288.49,1708.6 1608.33,2000.09 1928.17,2231.53 2248.01,2418.91 2567.85,2573 2887.69,2701.34 3207.53,2809.35 \n",
       "  3527.37,2901.02 3847.21,2979.37 \n",
       "  \"/>\n",
       "<polyline clip-path=\"url(#clip2602)\" style=\"stroke:#608cf6; stroke-width:8; stroke-opacity:1; fill:none\" points=\"\n",
       "  328.97,132.649 622.156,784.277 915.343,1263.01 1208.53,1628.25 1501.72,1915.04 1794.9,2145.32 2088.09,2333.58 2381.28,2489.73 2674.46,2620.81 2967.65,2731.93 \n",
       "  3260.84,2826.9 3554.02,2908.63 3847.21,2979.37 \n",
       "  \"/>\n",
       "<polyline clip-path=\"url(#clip2602)\" style=\"stroke:#f05f73; stroke-width:8; stroke-opacity:1; fill:none\" points=\"\n",
       "  328.97,132.649 599.604,743.66 870.237,1201.3 1140.87,1555.74 1411.5,1837.45 1682.14,2065.97 1952.77,2254.44 2223.41,2411.99 2494.04,2545.19 2764.67,2658.84 \n",
       "  3035.31,2756.6 3305.94,2841.23 3576.57,2914.92 3847.21,2979.37 \n",
       "  \"/>\n",
       "<polyline clip-path=\"url(#clip2602)\" style=\"stroke:#dd64b5; stroke-width:8; stroke-opacity:1; fill:none\" points=\"\n",
       "  328.97,132.649 580.273,707.803 831.575,1145.99 1082.88,1489.96 1334.18,1766.36 1585.48,1992.67 1836.79,2180.81 2088.09,2339.22 2339.39,2474 2590.69,2589.7 \n",
       "  2842,2689.78 3093.3,2776.9 3344.6,2853.14 3595.91,2920.18 3847.21,2979.37 \n",
       "  \"/>\n",
       "<polyline clip-path=\"url(#clip2602)\" style=\"stroke:#6b9e32; stroke-width:8; stroke-opacity:1; fill:none\" points=\"\n",
       "  328.97,132.649 563.519,675.916 798.068,1096.12 1032.62,1430 1267.17,1700.98 1501.72,1924.73 1736.27,2112.13 1970.81,2270.93 2205.36,2406.86 2439.91,2524.18 \n",
       "  2674.46,2626.18 2909.01,2715.41 3143.56,2793.87 3378.11,2863.19 3612.66,2924.66 3847.21,2979.37 \n",
       "  \"/>\n",
       "<polyline clip-path=\"url(#clip2602)\" style=\"stroke:#718c69; stroke-width:8; stroke-opacity:1; fill:none\" points=\"\n",
       "  328.97,132.649 548.86,647.374 768.75,1050.94 988.64,1375.11 1208.53,1640.63 1428.42,1861.58 1648.31,2047.89 1868.2,2206.72 2088.09,2343.41 2307.98,2461.99 \n",
       "  2527.87,2565.57 2747.76,2656.58 2967.65,2736.96 3187.54,2808.27 3407.43,2871.78 3627.32,2928.52 3847.21,2979.37 \n",
       "  \"/>\n",
       "<polyline clip-path=\"url(#clip2602)\" style=\"stroke:#47988b; stroke-width:8; stroke-opacity:1; fill:none\" points=\"\n",
       "  328.97,132.649 535.925,621.679 742.88,1009.8 949.836,1324.69 1156.79,1584.76 1363.75,1802.73 1570.7,1987.68 1777.66,2146.23 1984.61,2283.37 2191.57,2402.89 \n",
       "  2398.52,2507.74 2605.48,2600.25 2812.43,2682.28 3019.39,2755.33 3226.34,2820.63 3433.3,2879.2 3640.25,2931.87 3847.21,2979.37 \n",
       "  \"/>\n",
       "<polyline clip-path=\"url(#clip2602)\" style=\"stroke:#1ea68c; stroke-width:8; stroke-opacity:1; fill:none\" points=\"\n",
       "  328.97,132.649 524.428,598.424 719.885,972.187 915.343,1278.2 1110.8,1532.88 1306.26,1747.75 1501.72,1931.12 1697.17,2089.14 1892.63,2226.46 2088.09,2346.65 \n",
       "  2283.55,2452.52 2479,2546.28 2674.46,2629.72 2869.92,2704.28 3065.38,2771.16 3260.84,2831.35 3456.29,2885.67 3651.75,2934.81 3847.21,2979.37 \n",
       "  \"/>\n",
       "<polyline clip-path=\"url(#clip2602)\" style=\"stroke:#af78dd; stroke-width:8; stroke-opacity:1; fill:none\" points=\"\n",
       "  328.97,132.649 514.14,577.277 699.311,937.667 884.481,1235.2 1069.65,1484.58 1254.82,1696.27 1439.99,1877.9 1625.16,2035.17 1810.33,2172.44 1995.5,2293.08 \n",
       "  2180.67,2399.73 2365.84,2494.52 2551.02,2579.15 2736.19,2655.03 2921.36,2723.31 3106.53,2784.94 3291.7,2840.73 3476.87,2891.36 3662.04,2937.41 3847.21,2979.37 \n",
       "  \n",
       "  \"/>\n",
       "<path clip-path=\"url(#clip2600)\" d=\"\n",
       "M3272.28 347.724 L3832.76 347.724 L3832.76 226.764 L3272.28 226.764  Z\n",
       "  \" fill=\"#ffffff\" fill-rule=\"evenodd\" fill-opacity=\"1\"/>\n",
       "<polyline clip-path=\"url(#clip2600)\" style=\"stroke:#000000; stroke-width:4; stroke-opacity:1; fill:none\" points=\"\n",
       "  3272.28,347.724 3832.76,347.724 3832.76,226.764 3272.28,226.764 3272.28,347.724 \n",
       "  \"/>\n",
       "<polyline clip-path=\"url(#clip2600)\" style=\"stroke:#000000; stroke-width:12; stroke-opacity:1; fill:none\" stroke-dasharray=\"48, 30\" points=\"\n",
       "  3312.28,287.244 3552.28,287.244 \n",
       "  \"/>\n",
       "<g clip-path=\"url(#clip2600)\">\n",
       "<text style=\"fill:#000000; fill-opacity:1; font-family:Arial,Helvetica Neue,Helvetica,sans-serif; font-size:48px; text-anchor:start;\" transform=\"rotate(0, 3592.28, 304.744)\" x=\"3592.28\" y=\"304.744\">Teórico</text>\n",
       "</g>\n",
       "</svg>\n"
      ]
     },
     "execution_count": 22,
     "metadata": {},
     "output_type": "execute_result"
    }
   ],
   "source": [
    "n = 155 # Número de nodos\n",
    "inicio, final = 2, 6.5 # Extremos del intervalo\n",
    "b = zeros(n)\n",
    "b[1] = 0.008\n",
    "b[end] = 0.003\n",
    "\n",
    "u(x) = 9.15033*10^(-5)*x + (0.015634./x)\n",
    "x, y = Ejercicio1_1(n, inicio, final, b)\n",
    "p = plot(x, u(x), lw = 3, linestyle = :dash, color = :black, lab = \"Teórico\")\n",
    "for i in 2:20\n",
    "    b = zeros(i)\n",
    "    b[1] = 0.008\n",
    "    b[end] = 0.003\n",
    "    plot!(p, Ejercicio1_1(i, inicio, final, b), lw = 2, lab = false)#\"Rendijas: $i\")\n",
    "end\n",
    "plot!(size=(1000, 800))"
   ]
  },
  {
   "cell_type": "markdown",
   "metadata": {},
   "source": [
    "# 2-D"
   ]
  },
  {
   "cell_type": "code",
   "execution_count": null,
   "metadata": {},
   "outputs": [],
   "source": []
  }
 ],
 "metadata": {
  "@webio": {
   "lastCommId": null,
   "lastKernelId": null
  },
  "kernelspec": {
   "display_name": "Julia 1.1.1",
   "language": "julia",
   "name": "julia-1.1"
  },
  "language_info": {
   "file_extension": ".jl",
   "mimetype": "application/julia",
   "name": "julia",
   "version": "1.1.1"
  }
 },
 "nbformat": 4,
 "nbformat_minor": 4
}
