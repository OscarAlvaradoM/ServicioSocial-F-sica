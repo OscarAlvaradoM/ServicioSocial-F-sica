{
 "cells": [
  {
   "cell_type": "code",
   "execution_count": 1,
   "metadata": {},
   "outputs": [],
   "source": [
    "using Statistics, BenchmarkTools, LinearAlgebra, SparseArrays, CUDA\n",
    "using CUDA.CUSPARSE"
   ]
  },
  {
   "cell_type": "markdown",
   "metadata": {},
   "source": [
    "- Función para generar la matriz A y el vector b de dimensión $n \\times n$ y $n$, respectivamente cuya solución será un vector de 1."
   ]
  },
  {
   "cell_type": "code",
   "execution_count": 2,
   "metadata": {},
   "outputs": [
    {
     "data": {
      "text/plain": [
       "get_A_b (generic function with 1 method)"
      ]
     },
     "execution_count": 2,
     "metadata": {},
     "output_type": "execute_result"
    }
   ],
   "source": [
    "function get_A_b(N)\n",
    "    dv = fill(3., (N,))\n",
    "    ev = fill(-1., (N-1,))\n",
    "    A = Tridiagonal(ev,dv, ev)\n",
    "    A = sparse(A)\n",
    "    b = fill(1.5, (N,))\n",
    "    b[1] = b[end] = 5/2\n",
    "    isodd(N) ? b[ceil(Int, N/2)] = 1 : b[trunc(Int, N/2)] = b[trunc(Int, N/2+1)] = 1\n",
    "    for row ∈ 1:ceil(Int,N/2)\n",
    "        if isodd(N)\n",
    "            if row != ceil(N/2)\n",
    "                A[row,end-row+1] = A[end-row+1, row] = 0.5\n",
    "            end\n",
    "        else\n",
    "            if (row != N/2) & (row != (N/2 + 1))\n",
    "                A[row,end-row+1] = A[end-row+1, row] = 0.5\n",
    "            end\n",
    "        end\n",
    "    end\n",
    "    return A, b\n",
    "end"
   ]
  },
  {
   "cell_type": "markdown",
   "metadata": {},
   "source": [
    "## Unpreconditioned version of the Conjugate Gradient Algorithm in Julia\n"
   ]
  },
  {
   "cell_type": "code",
   "execution_count": 3,
   "metadata": {},
   "outputs": [
    {
     "data": {
      "text/plain": [
       "CG (generic function with 1 method)"
      ]
     },
     "execution_count": 3,
     "metadata": {},
     "output_type": "execute_result"
    }
   ],
   "source": [
    "# Algoritmo sacado directo del pseudocódigo\n",
    "function CG(A,b,x,r,ρ,res,p,ϵ)\n",
    "    i = 1\n",
    "    while  norm(res) > ϵ\n",
    "        # Aquí iría la condición más chida de precondicionamiento\n",
    "        ρ[1] = ρ[2] # Utilizamos sólo dos actualizaciones hacia atrás, por eso esto sí es una lista.\n",
    "        ρ[2] = r'*r # Aquí cambia cuando es precondicionada\n",
    "        if i == 1\n",
    "            p = r\n",
    "        else\n",
    "            β = ρ[2]/ρ[1]\n",
    "            p = r + β*p\n",
    "        end\n",
    "        q = A*p\n",
    "        α = ρ[2]/(p'*q)\n",
    "        x = x + α*p\n",
    "        r = r - α*q\n",
    "        i += 1\n",
    "        res = b - A*x\n",
    "    end\n",
    "    return x\n",
    "end"
   ]
  },
  {
   "cell_type": "markdown",
   "metadata": {},
   "source": [
    "### Secuencial"
   ]
  },
  {
   "cell_type": "code",
   "execution_count": 4,
   "metadata": {},
   "outputs": [
    {
     "name": "stdout",
     "output_type": "stream",
     "text": [
      "  7.288 ms (635 allocations: 37.40 MiB)\n"
     ]
    },
    {
     "data": {
      "text/plain": [
       "25000-element Array{Float64,1}:\n",
       " 0.9999998741141164\n",
       " 0.9999996766562045\n",
       " 0.9999998570370346\n",
       " 1.0000001714175357\n",
       " 1.0000003697871556\n",
       " 1.0000005528021825\n",
       " 1.0000003963116992\n",
       " 1.0000002511014212\n",
       " 1.000000086241815\n",
       " 1.0000000233947726\n",
       " 0.9999996059764295\n",
       " 0.9999995796451858\n",
       " 0.9999994559611934\n",
       " ⋮\n",
       " 1.0000002313434646\n",
       " 0.9999999133049821\n",
       " 0.9999998506862864\n",
       " 0.9999999127616727\n",
       " 0.9999996594687439\n",
       " 0.9999995877626957\n",
       " 0.9999997723899025\n",
       " 0.9999999178946124\n",
       " 1.0000001168967796\n",
       " 1.0000002394855256\n",
       " 1.0000004587325615\n",
       " 1.0000001900042221"
      ]
     },
     "execution_count": 4,
     "metadata": {},
     "output_type": "execute_result"
    }
   ],
   "source": [
    "n = 25_000\n",
    "A, b = get_A_b(n)\n",
    "x = rand(n)\n",
    "r = b - A*x\n",
    "ρ = [0, r'*r]\n",
    "res = b - A*x\n",
    "p = Array{Float64}(undef, size(r,1), 1);\n",
    "ϵ = 0.0001\n",
    "@btime CG(A,b,x,r,ρ,res,p,ϵ)"
   ]
  },
  {
   "cell_type": "markdown",
   "metadata": {},
   "source": [
    "### Paralelo"
   ]
  },
  {
   "cell_type": "code",
   "execution_count": 5,
   "metadata": {},
   "outputs": [
    {
     "name": "stdout",
     "output_type": "stream",
     "text": [
      "  3.106 ms (6228 allocations: 140.44 KiB)\n"
     ]
    },
    {
     "data": {
      "text/plain": [
       "25000-element CuArray{Float64,1}:\n",
       " 0.9999998741141164\n",
       " 0.9999996766562047\n",
       " 0.9999998570370349\n",
       " 1.000000171417536\n",
       " 1.0000003697871558\n",
       " 1.0000005528021827\n",
       " 1.0000003963116992\n",
       " 1.0000002511014214\n",
       " 1.000000086241815\n",
       " 1.0000000233947723\n",
       " 0.9999996059764292\n",
       " 0.9999995796451856\n",
       " 0.9999994559611932\n",
       " ⋮\n",
       " 1.0000002313434646\n",
       " 0.9999999133049823\n",
       " 0.9999998506862868\n",
       " 0.9999999127616729\n",
       " 0.9999996594687439\n",
       " 0.9999995877626955\n",
       " 0.9999997723899025\n",
       " 0.9999999178946124\n",
       " 1.0000001168967796\n",
       " 1.0000002394855256\n",
       " 1.0000004587325615\n",
       " 1.000000190004222"
      ]
     },
     "execution_count": 5,
     "metadata": {},
     "output_type": "execute_result"
    }
   ],
   "source": [
    "dA = CuSparseMatrixCSR(A)\n",
    "db = CuArray(b)\n",
    "dx = CuArray(x)\n",
    "dr = db - dA*dx\n",
    "d = dr'*dr\n",
    "ρ = [0.0, d]\n",
    "dres = db - dA*dx\n",
    "ϵ = 0.0001\n",
    "dp = CuArray{Float64}(undef, size(dr,1), 1);\n",
    "@btime CG(dA,db,dx,dr,ρ,dres,dp,ϵ)"
   ]
  },
  {
   "cell_type": "markdown",
   "metadata": {},
   "source": [
    "### Paralelo especificando tipo de dato"
   ]
  },
  {
   "cell_type": "code",
   "execution_count": 7,
   "metadata": {},
   "outputs": [
    {
     "name": "stdout",
     "output_type": "stream",
     "text": [
      "  1.892 ms (6513 allocations: 146.88 KiB)\n"
     ]
    },
    {
     "data": {
      "text/plain": [
       "25000-element CuArray{Float32,1}:\n",
       " 0.99999976\n",
       " 1.0000002\n",
       " 1.0000004\n",
       " 1.0000004\n",
       " 1.0\n",
       " 1.0000001\n",
       " 1.0\n",
       " 0.9999998\n",
       " 1.0000001\n",
       " 0.99999976\n",
       " 0.99999964\n",
       " 0.9999995\n",
       " 0.99999964\n",
       " ⋮\n",
       " 0.9999998\n",
       " 1.0\n",
       " 1.0000002\n",
       " 1.0000001\n",
       " 0.99999994\n",
       " 1.0000001\n",
       " 0.9999999\n",
       " 1.0000001\n",
       " 0.99999994\n",
       " 0.9999997\n",
       " 0.9999998\n",
       " 0.9999998"
      ]
     },
     "execution_count": 7,
     "metadata": {},
     "output_type": "execute_result"
    }
   ],
   "source": [
    "dA = convert(SparseMatrixCSC{Float32, Int32}, A)\n",
    "dA = CuSparseMatrixCSR(dA)\n",
    "db = CuArray{Float32}(b)\n",
    "dx = CuArray{Float32}(x)\n",
    "dr = db - dA*dx\n",
    "d = dr'*dr\n",
    "ρ = [0.0f0, d]\n",
    "dres = db - dA*dx\n",
    "ϵ = 0.0001f0\n",
    "dp = CuArray{Float32}(undef, size(dr,1), 1);\n",
    "@btime CG(dA,db,dx,dr,ρ,dres,dp,ϵ)"
   ]
  },
  {
   "cell_type": "code",
   "execution_count": null,
   "metadata": {},
   "outputs": [],
   "source": []
  }
 ],
 "metadata": {
  "@webio": {
   "lastCommId": null,
   "lastKernelId": null
  },
  "kernelspec": {
   "display_name": "Julia 1.5.3",
   "language": "julia",
   "name": "julia-1.5"
  },
  "language_info": {
   "file_extension": ".jl",
   "mimetype": "application/julia",
   "name": "julia",
   "version": "1.5.3"
  }
 },
 "nbformat": 4,
 "nbformat_minor": 2
}
