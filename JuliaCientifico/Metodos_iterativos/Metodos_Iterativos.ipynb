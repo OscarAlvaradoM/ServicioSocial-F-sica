{
 "cells": [
  {
   "cell_type": "markdown",
   "metadata": {},
   "source": [
    "# Métodos iterativos\n",
    "- Óscar Alvarado Morán"
   ]
  },
  {
   "cell_type": "code",
   "execution_count": 1,
   "metadata": {},
   "outputs": [],
   "source": [
    "using LinearAlgebra\n",
    "using Plots\n",
    "using SparseArrays"
   ]
  },
  {
   "cell_type": "markdown",
   "metadata": {},
   "source": [
    "#### Diferencias finitas"
   ]
  },
  {
   "cell_type": "code",
   "execution_count": 2,
   "metadata": {},
   "outputs": [
    {
     "data": {
      "text/plain": [
       "FD_Matrix (generic function with 2 methods)"
      ]
     },
     "execution_count": 2,
     "metadata": {},
     "output_type": "execute_result"
    }
   ],
   "source": [
    "function FD_Matrix(N, nodos, h, tipo = :F)\n",
    "    A = zeros(nodos, nodos)\n",
    "    # Forward\n",
    "    if tipo == :F \n",
    "        v = [((binomial(N, a))*(-1)^a)/(h^N) for a = N:-1:0]\n",
    "        for i in 0:N\n",
    "            A += diagm(i => [v[i+1] for j = 1:(nodos-i)])\n",
    "        end\n",
    "        return A\n",
    "    # Backward\n",
    "    elseif tipo == :B \n",
    "        v = [((binomial(N, a))*(-1)^a)/(h^N) for a = 0:N]\n",
    "        for i in 0:N\n",
    "            A += diagm(-i => [v[i+1] for j = 1:(nodos-i)])\n",
    "        end\n",
    "        return A\n",
    "    # Central\n",
    "    elseif tipo == :C\n",
    "        v = [((binomial(N, a))*(-1)^a)/(h^N) for a = 0:N]\n",
    "        if (N + 1) % 2 == 0\n",
    "            for i in (N+1)/2:-1:1\n",
    "                A += diagm(convert(UInt8, i) => [v[convert(UInt8, ((N+1)/2)-i+1)] for j = 1:(nodos-i)])\n",
    "                A += diagm(-1*convert(UInt8, i) => [v[convert(UInt8, end - (((N+1)/2)-i))] for j = 1:(nodos-i)])\n",
    "            end\n",
    "        else\n",
    "            for i in 0:N\n",
    "                A += diagm(i-convert(UInt8, (N/2)) => [v[i+1] for j = 1:(nodos-abs(i-convert(UInt8, (N/2))))])\n",
    "            end\n",
    "        end\n",
    "        return A\n",
    "    else\n",
    "        print(\"No\")\n",
    "    end\n",
    "end"
   ]
  },
  {
   "cell_type": "code",
   "execution_count": 3,
   "metadata": {},
   "outputs": [
    {
     "data": {
      "text/plain": [
       "Ejercicio1_1 (generic function with 2 methods)"
      ]
     },
     "execution_count": 3,
     "metadata": {},
     "output_type": "execute_result"
    }
   ],
   "source": [
    "function Ejercicio1_1(n, inicio, final, b, condiciones = false)\n",
    "    h = (final-inicio)/(n-1) # Tamaño del intervalo sobre el eje x\n",
    "    x = inicio:h:final\n",
    "    \n",
    "    non_zeros = findall(!iszero, b)\n",
    "    inverse = [1/i for i in x]\n",
    "    \n",
    "    for i in non_zeros\n",
    "        inverse[i] = 0\n",
    "    end\n",
    "    A = FD_Matrix(2, n, h, :F) + Diagonal(inverse) * FD_Matrix(1, n, h, :F) - Diagonal(inverse .^ 2 )\n",
    "    \n",
    "    if condiciones == true\n",
    "        A[non_zeros, :] = zeros(length(non_zeros), size(A)[1])\n",
    "\n",
    "        for j in non_zeros\n",
    "            A[j, j] = 1\n",
    "        end\n",
    "    end\n",
    "\n",
    "    sol = A \\ b\n",
    "    \n",
    "    return sparse(A), x, b, sol\n",
    "    end   "
   ]
  },
  {
   "cell_type": "code",
   "execution_count": 28,
   "metadata": {},
   "outputs": [],
   "source": [
    "n = 20 # Número de nodos\n",
    "inicio, final = 2, 6.5 # Extremos del intervalo\n",
    "b = zeros(n)\n",
    "b[1] = 0.008\n",
    "b[end] = 0.003\n",
    "\n",
    "A, x, b, sol = Ejercicio1_1(n, inicio, final, b);"
   ]
  },
  {
   "cell_type": "markdown",
   "metadata": {},
   "source": [
    "## 1 Métodos iterativos estacionarios"
   ]
  },
  {
   "cell_type": "markdown",
   "metadata": {},
   "source": [
    "### 1.1 Método de Jacobi"
   ]
  },
  {
   "cell_type": "code",
   "execution_count": 29,
   "metadata": {},
   "outputs": [
    {
     "data": {
      "text/plain": [
       "Jacobi (generic function with 2 methods)"
      ]
     },
     "execution_count": 29,
     "metadata": {},
     "output_type": "execute_result"
    }
   ],
   "source": [
    "function Jacobi(A, b, iter = 20000)\n",
    "    n = size(A)[1]\n",
    "    x = [[] for i = 1:iter]\n",
    "    x[1] = b\n",
    "    x_bar = zeros(n)\n",
    "\n",
    "    for k = 1:iter-1\n",
    "        for i = 1:n\n",
    "            x_bar[i] = 0\n",
    "            for j = 1:n\n",
    "                if j != i\n",
    "                    x_bar[i] = x_bar[i] + A[i,j]*x[k][j]\n",
    "                end\n",
    "            end\n",
    "            x_bar[i] = (b[i] - x_bar[i])/A[i,i]\n",
    "        end\n",
    "        #print(x_bar)\n",
    "        x[k+1] = x_bar\n",
    "    end\n",
    "    return x[end]\n",
    "end"
   ]
  },
  {
   "cell_type": "code",
   "execution_count": 14,
   "metadata": {},
   "outputs": [],
   "source": [
    "A, x, b, sol = Ejercicio1_1(n, inicio, final, b, false);"
   ]
  },
  {
   "cell_type": "code",
   "execution_count": 32,
   "metadata": {},
   "outputs": [
    {
     "data": {
      "text/plain": [
       "true"
      ]
     },
     "execution_count": 32,
     "metadata": {},
     "output_type": "execute_result"
    }
   ],
   "source": [
    "Jacobi(A,b) ≈ sol"
   ]
  },
  {
   "cell_type": "markdown",
   "metadata": {},
   "source": [
    "### 1.2 Método de Gauss-Seidel"
   ]
  },
  {
   "cell_type": "code",
   "execution_count": 33,
   "metadata": {
    "scrolled": false
   },
   "outputs": [
    {
     "data": {
      "text/plain": [
       "GS (generic function with 2 methods)"
      ]
     },
     "execution_count": 33,
     "metadata": {},
     "output_type": "execute_result"
    }
   ],
   "source": [
    "function GS(A, b, iter = 20000)\n",
    "    n = size(A)[1]\n",
    "    x = [[] for i = 1:iter]\n",
    "    x[1] = b\n",
    "\n",
    "    for k = 1:iter-1\n",
    "        x[k+1] = zeros(n)\n",
    "        for i = 1:n\n",
    "            σ = 0\n",
    "            for j = 1:i-1\n",
    "                if j <= i\n",
    "                    σ = σ + A[i,j]x[k+1][j]\n",
    "                end\n",
    "            end\n",
    "            for j = i+1:n\n",
    "                σ = σ + A[i,j]x[k][j]\n",
    "            end\n",
    "            x[k+1][i] = (b[i] - σ)/A[i,i]\n",
    "        end\n",
    "    end\n",
    "    return x[end]\n",
    "end "
   ]
  },
  {
   "cell_type": "code",
   "execution_count": 34,
   "metadata": {},
   "outputs": [
    {
     "data": {
      "text/plain": [
       "true"
      ]
     },
     "execution_count": 34,
     "metadata": {},
     "output_type": "execute_result"
    }
   ],
   "source": [
    "GS(A, b) ≈ sol"
   ]
  },
  {
   "cell_type": "markdown",
   "metadata": {},
   "source": [
    "### 1.3 Método de sobre-relajación sucesiva"
   ]
  },
  {
   "cell_type": "code",
   "execution_count": null,
   "metadata": {},
   "outputs": [],
   "source": []
  },
  {
   "cell_type": "markdown",
   "metadata": {},
   "source": [
    "### 1.4 Método de sobre-relajación sucesiva simétrica"
   ]
  },
  {
   "cell_type": "code",
   "execution_count": null,
   "metadata": {},
   "outputs": [],
   "source": []
  },
  {
   "cell_type": "markdown",
   "metadata": {},
   "source": [
    "## 2 Métodos iterativos no estacionarios"
   ]
  },
  {
   "cell_type": "markdown",
   "metadata": {},
   "source": [
    "### 2.1  Método del Gradiente Conjugado (CG)"
   ]
  },
  {
   "cell_type": "code",
   "execution_count": null,
   "metadata": {},
   "outputs": [],
   "source": []
  },
  {
   "cell_type": "markdown",
   "metadata": {},
   "source": [
    "### 2.2  Residuo Mínimo (MINRES) y SYMMLQ"
   ]
  },
  {
   "cell_type": "code",
   "execution_count": null,
   "metadata": {},
   "outputs": [],
   "source": []
  },
  {
   "cell_type": "markdown",
   "metadata": {},
   "source": [
    "### 2.3  CG en las Ecuaciones Normales, CGNE y CGNR"
   ]
  },
  {
   "cell_type": "code",
   "execution_count": null,
   "metadata": {},
   "outputs": [],
   "source": []
  },
  {
   "cell_type": "markdown",
   "metadata": {},
   "source": [
    "### 2.4  Residuo Mínimo Generalizado (GMRES)"
   ]
  },
  {
   "cell_type": "code",
   "execution_count": null,
   "metadata": {},
   "outputs": [],
   "source": []
  },
  {
   "cell_type": "markdown",
   "metadata": {},
   "source": [
    "### 2.5 Gradiente BiConjugado (BiCG)"
   ]
  },
  {
   "cell_type": "code",
   "execution_count": null,
   "metadata": {},
   "outputs": [],
   "source": []
  },
  {
   "cell_type": "markdown",
   "metadata": {},
   "source": [
    "### 2.6  Cuasi-Mínimo Residuo (QMR)"
   ]
  },
  {
   "cell_type": "code",
   "execution_count": null,
   "metadata": {},
   "outputs": [],
   "source": []
  },
  {
   "cell_type": "markdown",
   "metadata": {},
   "source": [
    "### 2.7 Método del Gradiente Conjugado Cuadrático (CGS)"
   ]
  },
  {
   "cell_type": "code",
   "execution_count": null,
   "metadata": {},
   "outputs": [],
   "source": []
  },
  {
   "cell_type": "markdown",
   "metadata": {},
   "source": [
    "### 2.8 Gradiente BiConjugado Estabilizado (Bi-CGSTAB)"
   ]
  },
  {
   "cell_type": "code",
   "execution_count": null,
   "metadata": {},
   "outputs": [],
   "source": []
  },
  {
   "cell_type": "markdown",
   "metadata": {},
   "source": [
    "### 2.9 Iteración de Chebyshev"
   ]
  },
  {
   "cell_type": "code",
   "execution_count": null,
   "metadata": {},
   "outputs": [],
   "source": []
  }
 ],
 "metadata": {
  "kernelspec": {
   "display_name": "Julia 1.1.1",
   "language": "julia",
   "name": "julia-1.1"
  },
  "language_info": {
   "file_extension": ".jl",
   "mimetype": "application/julia",
   "name": "julia",
   "version": "1.1.1"
  }
 },
 "nbformat": 4,
 "nbformat_minor": 4
}
